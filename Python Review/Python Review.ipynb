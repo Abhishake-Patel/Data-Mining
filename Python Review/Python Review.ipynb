{
 "cells": [
  {
   "cell_type": "markdown",
   "id": "38f23ff1",
   "metadata": {},
   "source": [
    "# Q 1  Python data structures and other essentials"
   ]
  },
  {
   "cell_type": "markdown",
   "id": "6dd69a32",
   "metadata": {},
   "source": [
    "# Q 1.1 Tuples"
   ]
  },
  {
   "cell_type": "markdown",
   "id": "95b4f27d",
   "metadata": {},
   "source": [
    "1) Create the tuple named apps tuple with the string elements ”Google”, ”Facebook”, \"Amazon”, ”Netflix”, ”AirBnB”, ”Instagram”."
   ]
  },
  {
   "cell_type": "code",
   "execution_count": 6,
   "id": "354eebbd",
   "metadata": {},
   "outputs": [],
   "source": [
    "apps_tuple = (\"Google\", \"Facebook\", \"Amazon\", \"Netflix\", \"AirBnB\", \"Instagram\")"
   ]
  },
  {
   "cell_type": "markdown",
   "id": "1664ea69",
   "metadata": {},
   "source": [
    "2)  Extract the second element by using its index and the last element by using its negative index"
   ]
  },
  {
   "cell_type": "code",
   "execution_count": 7,
   "id": "b80104b3",
   "metadata": {},
   "outputs": [
    {
     "name": "stdout",
     "output_type": "stream",
     "text": [
      "Facebook\n"
     ]
    }
   ],
   "source": [
    "print(apps_tuple[1])"
   ]
  },
  {
   "cell_type": "code",
   "execution_count": 8,
   "id": "d82de115",
   "metadata": {},
   "outputs": [
    {
     "name": "stdout",
     "output_type": "stream",
     "text": [
      "Instagram\n"
     ]
    }
   ],
   "source": [
    "print(apps_tuple[-1])"
   ]
  },
  {
   "cell_type": "markdown",
   "id": "53e669e5",
   "metadata": {},
   "source": [
    "3) Slice the elements from ”Facebook” to ”Netflix” inclusive on both ends."
   ]
  },
  {
   "cell_type": "code",
   "execution_count": 9,
   "id": "087fdd10",
   "metadata": {},
   "outputs": [
    {
     "name": "stdout",
     "output_type": "stream",
     "text": [
      "('Facebook', 'Amazon', 'Netflix')\n"
     ]
    }
   ],
   "source": [
    "print(apps_tuple[1:4])"
   ]
  },
  {
   "cell_type": "markdown",
   "id": "4d8dc962",
   "metadata": {},
   "source": [
    "4) Try appending the element ”Messenger” to the tuple. What do you observe? Why?"
   ]
  },
  {
   "cell_type": "code",
   "execution_count": 10,
   "id": "22097ced",
   "metadata": {},
   "outputs": [
    {
     "ename": "TypeError",
     "evalue": "'tuple' object does not support item assignment",
     "output_type": "error",
     "traceback": [
      "\u001b[1;31m---------------------------------------------------------------------------\u001b[0m",
      "\u001b[1;31mTypeError\u001b[0m                                 Traceback (most recent call last)",
      "Input \u001b[1;32mIn [10]\u001b[0m, in \u001b[0;36m<cell line: 1>\u001b[1;34m()\u001b[0m\n\u001b[1;32m----> 1\u001b[0m apps_tuple[\u001b[38;5;241m6\u001b[39m] \u001b[38;5;241m=\u001b[39m \u001b[38;5;124m\"\u001b[39m\u001b[38;5;124mMessenger\u001b[39m\u001b[38;5;124m\"\u001b[39m\n",
      "\u001b[1;31mTypeError\u001b[0m: 'tuple' object does not support item assignment"
     ]
    }
   ],
   "source": [
    "apps_tuple[6] = \"Messenger\""
   ]
  },
  {
   "cell_type": "code",
   "execution_count": 11,
   "id": "fdf0b51b",
   "metadata": {},
   "outputs": [
    {
     "ename": "AttributeError",
     "evalue": "'str' object has no attribute 'append'",
     "output_type": "error",
     "traceback": [
      "\u001b[1;31m---------------------------------------------------------------------------\u001b[0m",
      "\u001b[1;31mAttributeError\u001b[0m                            Traceback (most recent call last)",
      "Input \u001b[1;32mIn [11]\u001b[0m, in \u001b[0;36m<cell line: 1>\u001b[1;34m()\u001b[0m\n\u001b[1;32m----> 1\u001b[0m \u001b[43mapps_tuple\u001b[49m\u001b[43m[\u001b[49m\u001b[38;5;241;43m5\u001b[39;49m\u001b[43m]\u001b[49m\u001b[38;5;241;43m.\u001b[39;49m\u001b[43mappend\u001b[49m(\u001b[38;5;124m\"\u001b[39m\u001b[38;5;124mMessenger\u001b[39m\u001b[38;5;124m\"\u001b[39m)\n",
      "\u001b[1;31mAttributeError\u001b[0m: 'str' object has no attribute 'append'"
     ]
    }
   ],
   "source": [
    "apps_tuple[5].append(\"Messenger\")"
   ]
  },
  {
   "cell_type": "markdown",
   "id": "6f713fa9",
   "metadata": {},
   "source": [
    "The main reason why we observe these errors are because tuples as well as strings are immutable."
   ]
  },
  {
   "cell_type": "markdown",
   "id": "400ea0bc",
   "metadata": {},
   "source": [
    "# Q 1.2 Lists"
   ]
  },
  {
   "cell_type": "markdown",
   "id": "4a06498d",
   "metadata": {},
   "source": [
    "1) Define the list apps list with the same elements as the tuple above."
   ]
  },
  {
   "cell_type": "code",
   "execution_count": 12,
   "id": "468a6f52",
   "metadata": {},
   "outputs": [],
   "source": [
    "apps_list = [\"Google\", \"Facebook\", \"Amazon\", \"Netflix\", \"AirBnB\", \"Instagram\"]"
   ]
  },
  {
   "cell_type": "markdown",
   "id": "f7d3adf1",
   "metadata": {},
   "source": [
    "2) Slice the first three elements of the list with the shorthand syntax, i.e. not by typing explicitly all the indexes 0, 1, and 2; use the symbol : instead."
   ]
  },
  {
   "cell_type": "code",
   "execution_count": 13,
   "id": "79ad8439",
   "metadata": {},
   "outputs": [
    {
     "name": "stdout",
     "output_type": "stream",
     "text": [
      "['Google', 'Facebook', 'Amazon']\n"
     ]
    }
   ],
   "source": [
    "print(apps_list[:3])"
   ]
  },
  {
   "cell_type": "markdown",
   "id": "524f2b75",
   "metadata": {},
   "source": [
    "3) Slice all the elements after index 3 inclusively with the shorthand syntax."
   ]
  },
  {
   "cell_type": "code",
   "execution_count": 14,
   "id": "22de2fe3",
   "metadata": {},
   "outputs": [
    {
     "name": "stdout",
     "output_type": "stream",
     "text": [
      "['Amazon', 'Netflix', 'AirBnB', 'Instagram']\n"
     ]
    }
   ],
   "source": [
    "print(apps_list[2:])"
   ]
  },
  {
   "cell_type": "markdown",
   "id": "def91588",
   "metadata": {},
   "source": [
    "4) Append the element ’Messenger’ to the end of the list and insert the element ’Youtube’ at index 1."
   ]
  },
  {
   "cell_type": "code",
   "execution_count": 15,
   "id": "1db994e2",
   "metadata": {},
   "outputs": [],
   "source": [
    "apps_list.append(\"Messenger\")"
   ]
  },
  {
   "cell_type": "code",
   "execution_count": 16,
   "id": "2287afb8",
   "metadata": {},
   "outputs": [],
   "source": [
    "apps_list.insert(1, \"Youtube\")"
   ]
  },
  {
   "cell_type": "code",
   "execution_count": 17,
   "id": "6406b413",
   "metadata": {},
   "outputs": [
    {
     "data": {
      "text/plain": [
       "['Google',\n",
       " 'Youtube',\n",
       " 'Facebook',\n",
       " 'Amazon',\n",
       " 'Netflix',\n",
       " 'AirBnB',\n",
       " 'Instagram',\n",
       " 'Messenger']"
      ]
     },
     "execution_count": 17,
     "metadata": {},
     "output_type": "execute_result"
    }
   ],
   "source": [
    "apps_list"
   ]
  },
  {
   "cell_type": "markdown",
   "id": "9fa9b07a",
   "metadata": {},
   "source": [
    "5) Remove element ’Facebook’ and confirm with the function in whether ’Facebook’ has been removed from the list."
   ]
  },
  {
   "cell_type": "code",
   "execution_count": 18,
   "id": "f369e409",
   "metadata": {},
   "outputs": [],
   "source": [
    "apps_list.remove(\"Facebook\")"
   ]
  },
  {
   "cell_type": "code",
   "execution_count": 19,
   "id": "ceab042a",
   "metadata": {},
   "outputs": [
    {
     "data": {
      "text/plain": [
       "False"
      ]
     },
     "execution_count": 19,
     "metadata": {},
     "output_type": "execute_result"
    }
   ],
   "source": [
    "\"Facebook\" in apps_list"
   ]
  },
  {
   "cell_type": "code",
   "execution_count": 20,
   "id": "48a16fd1",
   "metadata": {},
   "outputs": [
    {
     "data": {
      "text/plain": [
       "['Google', 'Youtube', 'Amazon', 'Netflix', 'AirBnB', 'Instagram', 'Messenger']"
      ]
     },
     "execution_count": 20,
     "metadata": {},
     "output_type": "execute_result"
    }
   ],
   "source": [
    "apps_list"
   ]
  },
  {
   "cell_type": "markdown",
   "id": "f7dc6f9f",
   "metadata": {},
   "source": [
    "6) Concatenate the last list with the list [’Linkedin’, ’Twitter’]"
   ]
  },
  {
   "cell_type": "code",
   "execution_count": 21,
   "id": "84a54675",
   "metadata": {},
   "outputs": [
    {
     "data": {
      "text/plain": [
       "['Google',\n",
       " 'Youtube',\n",
       " 'Amazon',\n",
       " 'Netflix',\n",
       " 'AirBnB',\n",
       " 'Instagram',\n",
       " 'Messenger',\n",
       " 'Linkedin',\n",
       " 'Twitter']"
      ]
     },
     "execution_count": 21,
     "metadata": {},
     "output_type": "execute_result"
    }
   ],
   "source": [
    "apps_list + [\"Linkedin\", \"Twitter\"]"
   ]
  },
  {
   "cell_type": "markdown",
   "id": "fd9bcd00",
   "metadata": {},
   "source": [
    "# Q 1.3 Dicts"
   ]
  },
  {
   "cell_type": "markdown",
   "id": "054bae0f",
   "metadata": {},
   "source": [
    "1) Create the dict named apps dict with the same values as in 1.1.1. and keys: app0, app1, etc."
   ]
  },
  {
   "cell_type": "code",
   "execution_count": 22,
   "id": "fbf92308",
   "metadata": {},
   "outputs": [],
   "source": [
    "apps_dict = {\"app0\" : \"Google\", \n",
    "             \"app1\" : \"Facebook\", \n",
    "             \"app2\" : \"Amazon\", \n",
    "             \"app3\" : \"Netflix\", \n",
    "             \"app4\" : \"AirBnB\", \n",
    "             \"app5\" : \"Instagram\"}"
   ]
  },
  {
   "cell_type": "markdown",
   "id": "547447ab",
   "metadata": {},
   "source": [
    "2) Access the element with key app1; then replace its value with ’Youtube’."
   ]
  },
  {
   "cell_type": "code",
   "execution_count": 23,
   "id": "4da9fada",
   "metadata": {},
   "outputs": [
    {
     "data": {
      "text/plain": [
       "'Facebook'"
      ]
     },
     "execution_count": 23,
     "metadata": {},
     "output_type": "execute_result"
    }
   ],
   "source": [
    "apps_dict[\"app1\"]"
   ]
  },
  {
   "cell_type": "code",
   "execution_count": 24,
   "id": "0ae7fbc3",
   "metadata": {},
   "outputs": [],
   "source": [
    "apps_dict[\"app1\"] = \"Youtube\""
   ]
  },
  {
   "cell_type": "code",
   "execution_count": 25,
   "id": "cc0c996e",
   "metadata": {},
   "outputs": [
    {
     "data": {
      "text/plain": [
       "{'app0': 'Google',\n",
       " 'app1': 'Youtube',\n",
       " 'app2': 'Amazon',\n",
       " 'app3': 'Netflix',\n",
       " 'app4': 'AirBnB',\n",
       " 'app5': 'Instagram'}"
      ]
     },
     "execution_count": 25,
     "metadata": {},
     "output_type": "execute_result"
    }
   ],
   "source": [
    "apps_dict"
   ]
  },
  {
   "cell_type": "markdown",
   "id": "3a751b1e",
   "metadata": {},
   "source": [
    "3)  Add a new key-value pair: app6-Messenger."
   ]
  },
  {
   "cell_type": "code",
   "execution_count": 26,
   "id": "2d2e6cf4",
   "metadata": {},
   "outputs": [],
   "source": [
    "apps_dict['app6'] = \"Messenger\""
   ]
  },
  {
   "cell_type": "code",
   "execution_count": 27,
   "id": "3d30e4f5",
   "metadata": {},
   "outputs": [
    {
     "data": {
      "text/plain": [
       "{'app0': 'Google',\n",
       " 'app1': 'Youtube',\n",
       " 'app2': 'Amazon',\n",
       " 'app3': 'Netflix',\n",
       " 'app4': 'AirBnB',\n",
       " 'app5': 'Instagram',\n",
       " 'app6': 'Messenger'}"
      ]
     },
     "execution_count": 27,
     "metadata": {},
     "output_type": "execute_result"
    }
   ],
   "source": [
    "apps_dict"
   ]
  },
  {
   "cell_type": "markdown",
   "id": "99c26bde",
   "metadata": {},
   "source": [
    "4) What does the syntax: apps dict[”app1”]=”Messenger” do?"
   ]
  },
  {
   "cell_type": "code",
   "execution_count": 28,
   "id": "9d8d3843",
   "metadata": {},
   "outputs": [],
   "source": [
    "apps_dict.update({\"app1\" : \"Messenger\"})"
   ]
  },
  {
   "cell_type": "code",
   "execution_count": 29,
   "id": "192016de",
   "metadata": {},
   "outputs": [
    {
     "data": {
      "text/plain": [
       "{'app0': 'Google',\n",
       " 'app1': 'Messenger',\n",
       " 'app2': 'Amazon',\n",
       " 'app3': 'Netflix',\n",
       " 'app4': 'AirBnB',\n",
       " 'app5': 'Instagram',\n",
       " 'app6': 'Messenger'}"
      ]
     },
     "execution_count": 29,
     "metadata": {},
     "output_type": "execute_result"
    }
   ],
   "source": [
    "apps_dict"
   ]
  },
  {
   "cell_type": "code",
   "execution_count": 30,
   "id": "98b291c4",
   "metadata": {},
   "outputs": [],
   "source": [
    "#This converted the value of \"app1\", previously \"Youtube\", to \"Messenger\"."
   ]
  },
  {
   "cell_type": "markdown",
   "id": "70f2de6d",
   "metadata": {},
   "source": [
    "5) What does the syntax: apps dict[”App1”]=”Facebook” do? Why?"
   ]
  },
  {
   "cell_type": "code",
   "execution_count": 31,
   "id": "6b5021bc",
   "metadata": {},
   "outputs": [],
   "source": [
    "apps_dict[\"App1\"] = \"Facebook\""
   ]
  },
  {
   "cell_type": "code",
   "execution_count": 32,
   "id": "e441d513",
   "metadata": {},
   "outputs": [
    {
     "data": {
      "text/plain": [
       "{'app0': 'Google',\n",
       " 'app1': 'Messenger',\n",
       " 'app2': 'Amazon',\n",
       " 'app3': 'Netflix',\n",
       " 'app4': 'AirBnB',\n",
       " 'app5': 'Instagram',\n",
       " 'app6': 'Messenger',\n",
       " 'App1': 'Facebook'}"
      ]
     },
     "execution_count": 32,
     "metadata": {},
     "output_type": "execute_result"
    }
   ],
   "source": [
    "apps_dict"
   ]
  },
  {
   "cell_type": "code",
   "execution_count": 33,
   "id": "4e7a9775",
   "metadata": {},
   "outputs": [],
   "source": [
    "#It adds the new \"App1\" as a \"Key\" and \"Value\" to the bottom, becacuse it is in the format of a \"key\" and \"value\"."
   ]
  },
  {
   "cell_type": "markdown",
   "id": "d380be5f",
   "metadata": {},
   "source": [
    "6) What does the syntax: del apps dict[”App1”] do?"
   ]
  },
  {
   "cell_type": "code",
   "execution_count": 34,
   "id": "0fa06c35",
   "metadata": {},
   "outputs": [],
   "source": [
    "del apps_dict[\"App1\"]"
   ]
  },
  {
   "cell_type": "code",
   "execution_count": 35,
   "id": "17ef5b2c",
   "metadata": {},
   "outputs": [
    {
     "data": {
      "text/plain": [
       "{'app0': 'Google',\n",
       " 'app1': 'Messenger',\n",
       " 'app2': 'Amazon',\n",
       " 'app3': 'Netflix',\n",
       " 'app4': 'AirBnB',\n",
       " 'app5': 'Instagram',\n",
       " 'app6': 'Messenger'}"
      ]
     },
     "execution_count": 35,
     "metadata": {},
     "output_type": "execute_result"
    }
   ],
   "source": [
    "apps_dict"
   ]
  },
  {
   "cell_type": "code",
   "execution_count": 36,
   "id": "9b9c9192",
   "metadata": {},
   "outputs": [],
   "source": [
    "# It deletes the \"App1\" key and value just by recalling the \"Key\"."
   ]
  },
  {
   "cell_type": "markdown",
   "id": "a8a7d618",
   "metadata": {},
   "source": [
    "# Q 1.4 List Comprehension"
   ]
  },
  {
   "cell_type": "markdown",
   "id": "302640c7",
   "metadata": {},
   "source": [
    "1) Create the list named values with integers: 7, 12, 9, 18, 15."
   ]
  },
  {
   "cell_type": "code",
   "execution_count": 37,
   "id": "3ee5de5b",
   "metadata": {},
   "outputs": [],
   "source": [
    "values = [7,12,9,18,15]"
   ]
  },
  {
   "cell_type": "code",
   "execution_count": 38,
   "id": "d079cbc7",
   "metadata": {},
   "outputs": [
    {
     "data": {
      "text/plain": [
       "[7, 12, 9, 18, 15]"
      ]
     },
     "execution_count": 38,
     "metadata": {},
     "output_type": "execute_result"
    }
   ],
   "source": [
    "values"
   ]
  },
  {
   "cell_type": "markdown",
   "id": "991ae1e8",
   "metadata": {},
   "source": [
    "2) Create a list comprehension that takes the object values and returns the square of every value."
   ]
  },
  {
   "cell_type": "code",
   "execution_count": 39,
   "id": "828e6a6e",
   "metadata": {},
   "outputs": [
    {
     "data": {
      "text/plain": [
       "[49, 144, 81, 324, 225]"
      ]
     },
     "execution_count": 39,
     "metadata": {},
     "output_type": "execute_result"
    }
   ],
   "source": [
    "[num**2 for num in values]"
   ]
  },
  {
   "cell_type": "markdown",
   "id": "4c6845c8",
   "metadata": {},
   "source": [
    "# Q 1.5 Functions and control flow"
   ]
  },
  {
   "cell_type": "markdown",
   "id": "32ba1f81",
   "metadata": {},
   "source": [
    "1) Generate a sample of 10 random integer numbers between 600 and 900 (hint: use Numpy’s random integers function)."
   ]
  },
  {
   "cell_type": "code",
   "execution_count": 40,
   "id": "0652a205",
   "metadata": {},
   "outputs": [],
   "source": [
    "import numpy as n"
   ]
  },
  {
   "cell_type": "code",
   "execution_count": 41,
   "id": "66b53743",
   "metadata": {},
   "outputs": [
    {
     "data": {
      "text/plain": [
       "array([665, 638, 634, 861, 699, 805, 771, 775, 799, 642])"
      ]
     },
     "execution_count": 41,
     "metadata": {},
     "output_type": "execute_result"
    }
   ],
   "source": [
    "n.random.randint(low=600, high=900, size=10, dtype=int)"
   ]
  },
  {
   "cell_type": "markdown",
   "id": "97ac7341",
   "metadata": {},
   "source": [
    "2) Create a function called credit score that reads the sample and returns the output ’Low’ when the input is [600, 699], ’Medium’ when in [700, 799] and ’High’ when in [800, 900]."
   ]
  },
  {
   "cell_type": "code",
   "execution_count": 42,
   "id": "ced674a2",
   "metadata": {},
   "outputs": [],
   "source": [
    "R = n.random.randint(low=600, high=900, size=10, dtype=int)"
   ]
  },
  {
   "cell_type": "code",
   "execution_count": 43,
   "id": "d76f5a96",
   "metadata": {},
   "outputs": [
    {
     "data": {
      "text/plain": [
       "array([812, 652, 797, 789, 737, 665, 658, 885, 611, 662])"
      ]
     },
     "execution_count": 43,
     "metadata": {},
     "output_type": "execute_result"
    }
   ],
   "source": [
    "R"
   ]
  },
  {
   "cell_type": "code",
   "execution_count": 44,
   "id": "dbcf8225",
   "metadata": {},
   "outputs": [
    {
     "name": "stdout",
     "output_type": "stream",
     "text": [
      "High\n",
      "Low\n",
      "Medium\n",
      "Medium\n",
      "Medium\n",
      "Low\n",
      "Low\n",
      "High\n",
      "Low\n",
      "Low\n"
     ]
    }
   ],
   "source": [
    "def credit_score(sample):\n",
    "    if sample >= 600 and sample <= 699:\n",
    "        return 'Low'\n",
    "    elif sample >= 700 and sample <= 799:\n",
    "        return 'Medium'\n",
    "    elif sample >= 800 and sample <= 900:\n",
    "        return 'High'\n",
    "    \n",
    "for sample in R:\n",
    "    print(credit_score(sample))"
   ]
  },
  {
   "cell_type": "markdown",
   "id": "953493cb",
   "metadata": {},
   "source": [
    "# Q 2 Linear algebra in Numpy"
   ]
  },
  {
   "cell_type": "code",
   "execution_count": 45,
   "id": "30a12667",
   "metadata": {},
   "outputs": [],
   "source": [
    "import numpy as n"
   ]
  },
  {
   "cell_type": "markdown",
   "id": "998e0eaf",
   "metadata": {},
   "source": [
    "# Q 2.1 Matrix calculations"
   ]
  },
  {
   "cell_type": "markdown",
   "id": "8ef6e088",
   "metadata": {},
   "source": [
    "1) Create matrices A and B as numpy arrays and calculate 2A, -3B and A+B"
   ]
  },
  {
   "cell_type": "code",
   "execution_count": 46,
   "id": "eaa5760a",
   "metadata": {},
   "outputs": [],
   "source": [
    "A = n.array([[2,1],\n",
    "             [1,1],\n",
    "             [2,3]])"
   ]
  },
  {
   "cell_type": "code",
   "execution_count": 47,
   "id": "912c8de3",
   "metadata": {},
   "outputs": [],
   "source": [
    "B = n.array([[-4,1],\n",
    "            [3,-1],\n",
    "            [-2,1]])"
   ]
  },
  {
   "cell_type": "code",
   "execution_count": 48,
   "id": "4432d98b",
   "metadata": {},
   "outputs": [
    {
     "data": {
      "text/plain": [
       "array([[4, 2],\n",
       "       [2, 2],\n",
       "       [4, 6]])"
      ]
     },
     "execution_count": 48,
     "metadata": {},
     "output_type": "execute_result"
    }
   ],
   "source": [
    "A*2"
   ]
  },
  {
   "cell_type": "code",
   "execution_count": 49,
   "id": "f6023209",
   "metadata": {},
   "outputs": [
    {
     "data": {
      "text/plain": [
       "array([[12, -3],\n",
       "       [-9,  3],\n",
       "       [ 6, -3]])"
      ]
     },
     "execution_count": 49,
     "metadata": {},
     "output_type": "execute_result"
    }
   ],
   "source": [
    "B*-3"
   ]
  },
  {
   "cell_type": "code",
   "execution_count": 50,
   "id": "71fdb2af",
   "metadata": {},
   "outputs": [
    {
     "data": {
      "text/plain": [
       "array([[-2,  2],\n",
       "       [ 4,  0],\n",
       "       [ 0,  4]])"
      ]
     },
     "execution_count": 50,
     "metadata": {},
     "output_type": "execute_result"
    }
   ],
   "source": [
    "A+B"
   ]
  },
  {
   "cell_type": "markdown",
   "id": "0972513d",
   "metadata": {},
   "source": [
    "2)  Create matrices A and B as numpy arrays and calculate A*B and the inverse of B"
   ]
  },
  {
   "cell_type": "code",
   "execution_count": 51,
   "id": "85a26f65",
   "metadata": {},
   "outputs": [],
   "source": [
    "A = n.array([[2,-6],\n",
    "             [-4,0],\n",
    "             [1,5]])"
   ]
  },
  {
   "cell_type": "code",
   "execution_count": 52,
   "id": "75b0d83c",
   "metadata": {},
   "outputs": [],
   "source": [
    "B = n.array([[1,1],\n",
    "             [2,3]])"
   ]
  },
  {
   "cell_type": "code",
   "execution_count": 53,
   "id": "6028a4fb",
   "metadata": {},
   "outputs": [
    {
     "data": {
      "text/plain": [
       "array([[-10, -16],\n",
       "       [ -4,  -4],\n",
       "       [ 11,  16]])"
      ]
     },
     "execution_count": 53,
     "metadata": {},
     "output_type": "execute_result"
    }
   ],
   "source": [
    "A @ B"
   ]
  },
  {
   "cell_type": "code",
   "execution_count": 54,
   "id": "fafb148c",
   "metadata": {},
   "outputs": [
    {
     "data": {
      "text/plain": [
       "array([[ 3., -1.],\n",
       "       [-2.,  1.]])"
      ]
     },
     "execution_count": 54,
     "metadata": {},
     "output_type": "execute_result"
    }
   ],
   "source": [
    "n.linalg.inv(B)"
   ]
  },
  {
   "cell_type": "markdown",
   "id": "6b69db42",
   "metadata": {},
   "source": [
    "3)  Replace the values of the elements with abs(value)≥3 with the value 3. Also, calculate the determinant of the original matrix A."
   ]
  },
  {
   "cell_type": "code",
   "execution_count": 55,
   "id": "1049e711",
   "metadata": {},
   "outputs": [],
   "source": [
    "A[2,1] = 3"
   ]
  },
  {
   "cell_type": "code",
   "execution_count": 56,
   "id": "bb9960c1",
   "metadata": {},
   "outputs": [
    {
     "data": {
      "text/plain": [
       "array([[ 2, -6],\n",
       "       [-4,  0],\n",
       "       [ 1,  3]])"
      ]
     },
     "execution_count": 56,
     "metadata": {},
     "output_type": "execute_result"
    }
   ],
   "source": [
    "A"
   ]
  },
  {
   "cell_type": "code",
   "execution_count": 57,
   "id": "997ddb59",
   "metadata": {},
   "outputs": [],
   "source": [
    "A = n.array([[1,0,4,1],\n",
    "             [-2,1,-3,2],\n",
    "             [0,0,0,2],\n",
    "             [3,2,1,-1]])"
   ]
  },
  {
   "cell_type": "code",
   "execution_count": 58,
   "id": "68dd3760",
   "metadata": {},
   "outputs": [
    {
     "data": {
      "text/plain": [
       "42.00000000000001"
      ]
     },
     "execution_count": 58,
     "metadata": {},
     "output_type": "execute_result"
    }
   ],
   "source": [
    "n.linalg.det(A)"
   ]
  },
  {
   "cell_type": "markdown",
   "id": "0394e311",
   "metadata": {},
   "source": [
    "# Q 2.2 Norms and eigenvlaues"
   ]
  },
  {
   "cell_type": "markdown",
   "id": "f7d22890",
   "metadata": {},
   "source": [
    "1) Calculate the maximum and Euclidean or Frobenius norm of each of the three\n",
    "vectors:"
   ]
  },
  {
   "cell_type": "code",
   "execution_count": 59,
   "id": "603a4132",
   "metadata": {},
   "outputs": [],
   "source": [
    "x1 = n.array([1,-2,3])"
   ]
  },
  {
   "cell_type": "code",
   "execution_count": 60,
   "id": "d970a182",
   "metadata": {},
   "outputs": [],
   "source": [
    "x2 = n.array([2,0,-1,2])"
   ]
  },
  {
   "cell_type": "code",
   "execution_count": 61,
   "id": "10f6e4e8",
   "metadata": {},
   "outputs": [],
   "source": [
    "x3 = n.array([0,1,-4,2,-1])"
   ]
  },
  {
   "cell_type": "code",
   "execution_count": 62,
   "id": "5c74a00e",
   "metadata": {},
   "outputs": [],
   "source": [
    "#Maximums"
   ]
  },
  {
   "cell_type": "code",
   "execution_count": 63,
   "id": "e5aeb3ea",
   "metadata": {},
   "outputs": [
    {
     "data": {
      "text/plain": [
       "3"
      ]
     },
     "execution_count": 63,
     "metadata": {},
     "output_type": "execute_result"
    }
   ],
   "source": [
    "n.max(x1)"
   ]
  },
  {
   "cell_type": "code",
   "execution_count": 64,
   "id": "6ff36f78",
   "metadata": {},
   "outputs": [
    {
     "data": {
      "text/plain": [
       "2"
      ]
     },
     "execution_count": 64,
     "metadata": {},
     "output_type": "execute_result"
    }
   ],
   "source": [
    "n.max(x2)"
   ]
  },
  {
   "cell_type": "code",
   "execution_count": 65,
   "id": "e98bcba4",
   "metadata": {},
   "outputs": [
    {
     "data": {
      "text/plain": [
       "2"
      ]
     },
     "execution_count": 65,
     "metadata": {},
     "output_type": "execute_result"
    }
   ],
   "source": [
    "n.max(x3)"
   ]
  },
  {
   "cell_type": "code",
   "execution_count": 66,
   "id": "da9dfe89",
   "metadata": {},
   "outputs": [],
   "source": [
    "#Frobenius norms"
   ]
  },
  {
   "cell_type": "code",
   "execution_count": 67,
   "id": "fb6b67e5",
   "metadata": {},
   "outputs": [
    {
     "data": {
      "text/plain": [
       "3.7416573867739413"
      ]
     },
     "execution_count": 67,
     "metadata": {},
     "output_type": "execute_result"
    }
   ],
   "source": [
    "n.linalg.norm(x1,2)"
   ]
  },
  {
   "cell_type": "code",
   "execution_count": 68,
   "id": "72d76285",
   "metadata": {},
   "outputs": [
    {
     "data": {
      "text/plain": [
       "3.0"
      ]
     },
     "execution_count": 68,
     "metadata": {},
     "output_type": "execute_result"
    }
   ],
   "source": [
    "n.linalg.norm(x2,2)"
   ]
  },
  {
   "cell_type": "code",
   "execution_count": 69,
   "id": "257ba7f2",
   "metadata": {},
   "outputs": [
    {
     "data": {
      "text/plain": [
       "4.69041575982343"
      ]
     },
     "execution_count": 69,
     "metadata": {},
     "output_type": "execute_result"
    }
   ],
   "source": [
    "n.linalg.norm(x3,2)"
   ]
  },
  {
   "cell_type": "markdown",
   "id": "c47760e9",
   "metadata": {},
   "source": [
    "2) Calculate the l2 and l∞ norms of the matrices:"
   ]
  },
  {
   "cell_type": "code",
   "execution_count": 70,
   "id": "f3734299",
   "metadata": {},
   "outputs": [],
   "source": [
    "from numpy import inf"
   ]
  },
  {
   "cell_type": "code",
   "execution_count": 71,
   "id": "1bc5f778",
   "metadata": {},
   "outputs": [],
   "source": [
    "A1 = n.array([[1,-2],\n",
    "              [4,3]])"
   ]
  },
  {
   "cell_type": "code",
   "execution_count": 72,
   "id": "44b9d1e3",
   "metadata": {},
   "outputs": [
    {
     "data": {
      "text/plain": [
       "5.0197648378370845"
      ]
     },
     "execution_count": 72,
     "metadata": {},
     "output_type": "execute_result"
    }
   ],
   "source": [
    "n.linalg.norm(A1,2)"
   ]
  },
  {
   "cell_type": "code",
   "execution_count": 73,
   "id": "6e006467",
   "metadata": {},
   "outputs": [
    {
     "data": {
      "text/plain": [
       "7.0"
      ]
     },
     "execution_count": 73,
     "metadata": {},
     "output_type": "execute_result"
    }
   ],
   "source": [
    "n.linalg.norm(A1,inf)"
   ]
  },
  {
   "cell_type": "code",
   "execution_count": 74,
   "id": "1a0029a5",
   "metadata": {},
   "outputs": [],
   "source": [
    "A2 = n.array([[1,0,2],\n",
    "              [0,1,-1],\n",
    "              [-1,1,1]])"
   ]
  },
  {
   "cell_type": "code",
   "execution_count": 75,
   "id": "790cfcd0",
   "metadata": {},
   "outputs": [
    {
     "data": {
      "text/plain": [
       "2.4998281017161057"
      ]
     },
     "execution_count": 75,
     "metadata": {},
     "output_type": "execute_result"
    }
   ],
   "source": [
    "n.linalg.norm(A2,2)"
   ]
  },
  {
   "cell_type": "code",
   "execution_count": 76,
   "id": "a088d6ba",
   "metadata": {},
   "outputs": [
    {
     "data": {
      "text/plain": [
       "3.0"
      ]
     },
     "execution_count": 76,
     "metadata": {},
     "output_type": "execute_result"
    }
   ],
   "source": [
    "n.linalg.norm(A2,inf)"
   ]
  },
  {
   "cell_type": "markdown",
   "id": "775bf5f4",
   "metadata": {},
   "source": [
    "3) Calculate the eigenvalues of the matrix:"
   ]
  },
  {
   "cell_type": "code",
   "execution_count": 77,
   "id": "830f467c",
   "metadata": {},
   "outputs": [],
   "source": [
    "A = n.array([[-2,-2,3],\n",
    "             [-10,-1,6],\n",
    "             [10,-2,-9]])"
   ]
  },
  {
   "cell_type": "code",
   "execution_count": 78,
   "id": "6a8ef618",
   "metadata": {},
   "outputs": [
    {
     "data": {
      "text/plain": [
       "array([-12.,   3.,  -3.])"
      ]
     },
     "execution_count": 78,
     "metadata": {},
     "output_type": "execute_result"
    }
   ],
   "source": [
    "n.linalg.eigvals(A)"
   ]
  },
  {
   "cell_type": "markdown",
   "id": "500fa159",
   "metadata": {},
   "source": [
    "# Q 3 Pandas Manipulations"
   ]
  },
  {
   "cell_type": "code",
   "execution_count": 79,
   "id": "d6f1f0b6",
   "metadata": {},
   "outputs": [],
   "source": [
    "import pandas as pd"
   ]
  },
  {
   "cell_type": "code",
   "execution_count": 80,
   "id": "ff5dc0de",
   "metadata": {},
   "outputs": [],
   "source": [
    "import warnings\n",
    "warnings.filterwarnings('ignore')"
   ]
  },
  {
   "cell_type": "code",
   "execution_count": 90,
   "id": "7e5cd7f3",
   "metadata": {},
   "outputs": [
    {
     "data": {
      "text/html": [
       "<div>\n",
       "<style scoped>\n",
       "    .dataframe tbody tr th:only-of-type {\n",
       "        vertical-align: middle;\n",
       "    }\n",
       "\n",
       "    .dataframe tbody tr th {\n",
       "        vertical-align: top;\n",
       "    }\n",
       "\n",
       "    .dataframe thead th {\n",
       "        text-align: right;\n",
       "    }\n",
       "</style>\n",
       "<table border=\"1\" class=\"dataframe\">\n",
       "  <thead>\n",
       "    <tr style=\"text-align: right;\">\n",
       "      <th></th>\n",
       "      <th>Date</th>\n",
       "      <th>Price_pl</th>\n",
       "    </tr>\n",
       "  </thead>\n",
       "  <tbody>\n",
       "    <tr>\n",
       "      <th>0</th>\n",
       "      <td>12/11/2015</td>\n",
       "      <td>1.049</td>\n",
       "    </tr>\n",
       "    <tr>\n",
       "      <th>1</th>\n",
       "      <td>19/11/2015</td>\n",
       "      <td>0.999</td>\n",
       "    </tr>\n",
       "    <tr>\n",
       "      <th>2</th>\n",
       "      <td>7/12/2015</td>\n",
       "      <td>0.999</td>\n",
       "    </tr>\n",
       "    <tr>\n",
       "      <th>3</th>\n",
       "      <td>19/12/2015</td>\n",
       "      <td>1.019</td>\n",
       "    </tr>\n",
       "    <tr>\n",
       "      <th>4</th>\n",
       "      <td>04/01/2016</td>\n",
       "      <td>1.019</td>\n",
       "    </tr>\n",
       "    <tr>\n",
       "      <th>...</th>\n",
       "      <td>...</td>\n",
       "      <td>...</td>\n",
       "    </tr>\n",
       "    <tr>\n",
       "      <th>77</th>\n",
       "      <td>17/10/2018</td>\n",
       "      <td>1.209</td>\n",
       "    </tr>\n",
       "    <tr>\n",
       "      <th>78</th>\n",
       "      <td>01/11/2018</td>\n",
       "      <td>1.196</td>\n",
       "    </tr>\n",
       "    <tr>\n",
       "      <th>79</th>\n",
       "      <td>12/11/2018</td>\n",
       "      <td>1.126</td>\n",
       "    </tr>\n",
       "    <tr>\n",
       "      <th>80</th>\n",
       "      <td>27/11/2018</td>\n",
       "      <td>1.059</td>\n",
       "    </tr>\n",
       "    <tr>\n",
       "      <th>81</th>\n",
       "      <td>06/12/2018</td>\n",
       "      <td>1.016</td>\n",
       "    </tr>\n",
       "  </tbody>\n",
       "</table>\n",
       "<p>82 rows × 2 columns</p>\n",
       "</div>"
      ],
      "text/plain": [
       "          Date  Price_pl\n",
       "0   12/11/2015     1.049\n",
       "1   19/11/2015     0.999\n",
       "2    7/12/2015     0.999\n",
       "3   19/12/2015     1.019\n",
       "4   04/01/2016     1.019\n",
       "..         ...       ...\n",
       "77  17/10/2018     1.209\n",
       "78  01/11/2018     1.196\n",
       "79  12/11/2018     1.126\n",
       "80  27/11/2018     1.059\n",
       "81  06/12/2018     1.016\n",
       "\n",
       "[82 rows x 2 columns]"
      ]
     },
     "execution_count": 90,
     "metadata": {},
     "output_type": "execute_result"
    }
   ],
   "source": [
    "df = pd.read_excel(\"Gas_prices.xlsx\")\n",
    "df.head(100)"
   ]
  },
  {
   "cell_type": "code",
   "execution_count": 82,
   "id": "b357b4b9",
   "metadata": {},
   "outputs": [
    {
     "data": {
      "text/plain": [
       "0.959"
      ]
     },
     "execution_count": 82,
     "metadata": {},
     "output_type": "execute_result"
    }
   ],
   "source": [
    "df.loc[5][1]"
   ]
  },
  {
   "cell_type": "code",
   "execution_count": 83,
   "id": "9cff8b15",
   "metadata": {},
   "outputs": [
    {
     "data": {
      "text/plain": [
       "82"
      ]
     },
     "execution_count": 83,
     "metadata": {},
     "output_type": "execute_result"
    }
   ],
   "source": [
    "len(df)"
   ]
  },
  {
   "cell_type": "markdown",
   "id": "926db2ab",
   "metadata": {},
   "source": [
    "1) Import file Gas prices.xls as a pandas DataFrame. Create a function that replaces NaN with the interpolation between the adjacent values (i.e. the prior and the subsequent to the NaN). Do not use existing interpolation functions, built your own."
   ]
  },
  {
   "cell_type": "code",
   "execution_count": 104,
   "id": "0ba15884",
   "metadata": {},
   "outputs": [
    {
     "data": {
      "text/html": [
       "<div>\n",
       "<style scoped>\n",
       "    .dataframe tbody tr th:only-of-type {\n",
       "        vertical-align: middle;\n",
       "    }\n",
       "\n",
       "    .dataframe tbody tr th {\n",
       "        vertical-align: top;\n",
       "    }\n",
       "\n",
       "    .dataframe thead th {\n",
       "        text-align: right;\n",
       "    }\n",
       "</style>\n",
       "<table border=\"1\" class=\"dataframe\">\n",
       "  <thead>\n",
       "    <tr style=\"text-align: right;\">\n",
       "      <th></th>\n",
       "      <th>Date</th>\n",
       "      <th>Price_pl</th>\n",
       "      <th>Year</th>\n",
       "      <th>Month</th>\n",
       "    </tr>\n",
       "  </thead>\n",
       "  <tbody>\n",
       "    <tr>\n",
       "      <th>0</th>\n",
       "      <td>12/11/2015</td>\n",
       "      <td>1.049</td>\n",
       "      <td>2015</td>\n",
       "      <td>12</td>\n",
       "    </tr>\n",
       "    <tr>\n",
       "      <th>1</th>\n",
       "      <td>19/11/2015</td>\n",
       "      <td>0.999</td>\n",
       "      <td>2015</td>\n",
       "      <td>11</td>\n",
       "    </tr>\n",
       "    <tr>\n",
       "      <th>2</th>\n",
       "      <td>7/12/2015</td>\n",
       "      <td>0.999</td>\n",
       "      <td>2015</td>\n",
       "      <td>7</td>\n",
       "    </tr>\n",
       "    <tr>\n",
       "      <th>3</th>\n",
       "      <td>19/12/2015</td>\n",
       "      <td>1.019</td>\n",
       "      <td>2015</td>\n",
       "      <td>12</td>\n",
       "    </tr>\n",
       "    <tr>\n",
       "      <th>4</th>\n",
       "      <td>04/01/2016</td>\n",
       "      <td>1.019</td>\n",
       "      <td>2016</td>\n",
       "      <td>4</td>\n",
       "    </tr>\n",
       "    <tr>\n",
       "      <th>5</th>\n",
       "      <td>10/01/2016</td>\n",
       "      <td>0.959</td>\n",
       "      <td>2016</td>\n",
       "      <td>10</td>\n",
       "    </tr>\n",
       "    <tr>\n",
       "      <th>6</th>\n",
       "      <td>18/01/2016</td>\n",
       "      <td>0.929</td>\n",
       "      <td>2016</td>\n",
       "      <td>1</td>\n",
       "    </tr>\n",
       "    <tr>\n",
       "      <th>7</th>\n",
       "      <td>31/01/2016</td>\n",
       "      <td>0.949</td>\n",
       "      <td>2016</td>\n",
       "      <td>1</td>\n",
       "    </tr>\n",
       "    <tr>\n",
       "      <th>8</th>\n",
       "      <td>5/2/2016</td>\n",
       "      <td>0.909</td>\n",
       "      <td>2016</td>\n",
       "      <td>5</td>\n",
       "    </tr>\n",
       "    <tr>\n",
       "      <th>9</th>\n",
       "      <td>20/2/2016</td>\n",
       "      <td>0.889</td>\n",
       "      <td>2016</td>\n",
       "      <td>2</td>\n",
       "    </tr>\n",
       "    <tr>\n",
       "      <th>10</th>\n",
       "      <td>06/03/2016</td>\n",
       "      <td>0.909</td>\n",
       "      <td>2016</td>\n",
       "      <td>6</td>\n",
       "    </tr>\n",
       "    <tr>\n",
       "      <th>11</th>\n",
       "      <td>22/03/2016</td>\n",
       "      <td>0.949</td>\n",
       "      <td>2016</td>\n",
       "      <td>3</td>\n",
       "    </tr>\n",
       "    <tr>\n",
       "      <th>12</th>\n",
       "      <td>15/04/2016</td>\n",
       "      <td>1.004</td>\n",
       "      <td>2016</td>\n",
       "      <td>4</td>\n",
       "    </tr>\n",
       "    <tr>\n",
       "      <th>13</th>\n",
       "      <td>28/04/2016</td>\n",
       "      <td>1.059</td>\n",
       "      <td>2016</td>\n",
       "      <td>4</td>\n",
       "    </tr>\n",
       "    <tr>\n",
       "      <th>14</th>\n",
       "      <td>1/05/2016</td>\n",
       "      <td>1.059</td>\n",
       "      <td>2016</td>\n",
       "      <td>1</td>\n",
       "    </tr>\n",
       "  </tbody>\n",
       "</table>\n",
       "</div>"
      ],
      "text/plain": [
       "          Date  Price_pl  Year  Month\n",
       "0   12/11/2015     1.049  2015     12\n",
       "1   19/11/2015     0.999  2015     11\n",
       "2    7/12/2015     0.999  2015      7\n",
       "3   19/12/2015     1.019  2015     12\n",
       "4   04/01/2016     1.019  2016      4\n",
       "5   10/01/2016     0.959  2016     10\n",
       "6   18/01/2016     0.929  2016      1\n",
       "7   31/01/2016     0.949  2016      1\n",
       "8     5/2/2016     0.909  2016      5\n",
       "9    20/2/2016     0.889  2016      2\n",
       "10  06/03/2016     0.909  2016      6\n",
       "11  22/03/2016     0.949  2016      3\n",
       "12  15/04/2016     1.004  2016      4\n",
       "13  28/04/2016     1.059  2016      4\n",
       "14   1/05/2016     1.059  2016      1"
      ]
     },
     "execution_count": 104,
     "metadata": {},
     "output_type": "execute_result"
    }
   ],
   "source": [
    "df1 = df.copy()\n",
    "\n",
    "def interpolate():\n",
    "    check_nan = df1['Price_pl'].isnull()\n",
    "    count = -1\n",
    "    for i in check_nan:\n",
    "        count += 1\n",
    "        if i is True:\n",
    "            avg = (df1['Price_pl'][count-1] + df1['Price_pl'][count+1]) / 2\n",
    "#             print(count)\n",
    "#             print(avg)\n",
    "            df1.at[count, 'Price_pl'] = avg\n",
    "    return df1\n",
    "\n",
    "\n",
    "df = interpolate()\n",
    "df.head(15)"
   ]
  },
  {
   "cell_type": "markdown",
   "id": "ed997ab0",
   "metadata": {},
   "source": [
    "2) Find the index, the date and the value of the min and max gas price."
   ]
  },
  {
   "cell_type": "code",
   "execution_count": 105,
   "id": "199726eb",
   "metadata": {},
   "outputs": [
    {
     "name": "stdout",
     "output_type": "stream",
     "text": [
      "Minimum Index : 9\n",
      "Minimum Value Date : 20/2/2016\n",
      "Minimum Value : 0.889\n",
      "\n",
      "\n",
      "Maximum Index : 73\n",
      "Maximum Value Date : 23/05/2018\n",
      "Maximum Value : 1.336\n"
     ]
    }
   ],
   "source": [
    "min_index = df['Price_pl'].idxmin()\n",
    "print(\"Minimum Index :\", min_index)\n",
    "print(\"Minimum Value Date :\", df.loc[min_index][0])\n",
    "print(\"Minimum Value :\", df.loc[min_index][1])\n",
    "print('\\n')\n",
    "\n",
    "max_index = df['Price_pl'].idxmax()\n",
    "print(\"Maximum Index :\", max_index)\n",
    "print(\"Maximum Value Date :\", df.loc[max_index][0])\n",
    "print(\"Maximum Value :\", df.loc[max_index][1])"
   ]
  },
  {
   "cell_type": "markdown",
   "id": "2ec5a7d3",
   "metadata": {},
   "source": [
    "3) Calculate the following descriptive statistics: mean, median, quantile, skewness and kurtosis"
   ]
  },
  {
   "cell_type": "code",
   "execution_count": 106,
   "id": "44d082c3",
   "metadata": {},
   "outputs": [
    {
     "name": "stdout",
     "output_type": "stream",
     "text": [
      "Mean :  1.0953902439024386\n",
      "Median :  1.079\n",
      "Quantile :  1.079\n",
      "Skewness :  0.46752591499730667\n",
      "kurtosis :  -0.257963187132765\n"
     ]
    }
   ],
   "source": [
    "print(\"Mean : \", df['Price_pl'].mean())\n",
    "print(\"Median : \", df['Price_pl'].median())\n",
    "print(\"Quantile : \", df['Price_pl'].quantile())\n",
    "print(\"Skewness : \", df['Price_pl'].skew(skipna=True))\n",
    "print(\"kurtosis : \", df['Price_pl'].kurt())"
   ]
  },
  {
   "cell_type": "markdown",
   "id": "750bb8f7",
   "metadata": {},
   "source": [
    "4) Create two new columns with the Month and Year. Pivot the table by Month(index) and Year(columns). Calculate and plot the monthly average gas price. This should give you one line per year."
   ]
  },
  {
   "cell_type": "code",
   "execution_count": 107,
   "id": "d0cd406d",
   "metadata": {},
   "outputs": [
    {
     "data": {
      "text/html": [
       "<div>\n",
       "<style scoped>\n",
       "    .dataframe tbody tr th:only-of-type {\n",
       "        vertical-align: middle;\n",
       "    }\n",
       "\n",
       "    .dataframe tbody tr th {\n",
       "        vertical-align: top;\n",
       "    }\n",
       "\n",
       "    .dataframe thead th {\n",
       "        text-align: right;\n",
       "    }\n",
       "</style>\n",
       "<table border=\"1\" class=\"dataframe\">\n",
       "  <thead>\n",
       "    <tr style=\"text-align: right;\">\n",
       "      <th></th>\n",
       "      <th>Date</th>\n",
       "      <th>Price_pl</th>\n",
       "      <th>Year</th>\n",
       "      <th>Month</th>\n",
       "    </tr>\n",
       "  </thead>\n",
       "  <tbody>\n",
       "    <tr>\n",
       "      <th>0</th>\n",
       "      <td>12/11/2015</td>\n",
       "      <td>1.049</td>\n",
       "      <td>2015</td>\n",
       "      <td>12</td>\n",
       "    </tr>\n",
       "    <tr>\n",
       "      <th>1</th>\n",
       "      <td>19/11/2015</td>\n",
       "      <td>0.999</td>\n",
       "      <td>2015</td>\n",
       "      <td>11</td>\n",
       "    </tr>\n",
       "    <tr>\n",
       "      <th>2</th>\n",
       "      <td>7/12/2015</td>\n",
       "      <td>0.999</td>\n",
       "      <td>2015</td>\n",
       "      <td>7</td>\n",
       "    </tr>\n",
       "    <tr>\n",
       "      <th>3</th>\n",
       "      <td>19/12/2015</td>\n",
       "      <td>1.019</td>\n",
       "      <td>2015</td>\n",
       "      <td>12</td>\n",
       "    </tr>\n",
       "    <tr>\n",
       "      <th>4</th>\n",
       "      <td>04/01/2016</td>\n",
       "      <td>1.019</td>\n",
       "      <td>2016</td>\n",
       "      <td>4</td>\n",
       "    </tr>\n",
       "  </tbody>\n",
       "</table>\n",
       "</div>"
      ],
      "text/plain": [
       "         Date  Price_pl  Year  Month\n",
       "0  12/11/2015     1.049  2015     12\n",
       "1  19/11/2015     0.999  2015     11\n",
       "2   7/12/2015     0.999  2015      7\n",
       "3  19/12/2015     1.019  2015     12\n",
       "4  04/01/2016     1.019  2016      4"
      ]
     },
     "execution_count": 107,
     "metadata": {},
     "output_type": "execute_result"
    }
   ],
   "source": [
    "import datetime\n",
    "\n",
    "df['Year'] = pd.DatetimeIndex(df['Date']).year\n",
    "df['Month'] = pd.DatetimeIndex(df['Date']).month\n",
    "\n",
    "df.head()"
   ]
  },
  {
   "cell_type": "code",
   "execution_count": 108,
   "id": "03627a17",
   "metadata": {},
   "outputs": [
    {
     "data": {
      "text/html": [
       "<div>\n",
       "<style scoped>\n",
       "    .dataframe tbody tr th:only-of-type {\n",
       "        vertical-align: middle;\n",
       "    }\n",
       "\n",
       "    .dataframe tbody tr th {\n",
       "        vertical-align: top;\n",
       "    }\n",
       "\n",
       "    .dataframe thead th {\n",
       "        text-align: right;\n",
       "    }\n",
       "</style>\n",
       "<table border=\"1\" class=\"dataframe\">\n",
       "  <thead>\n",
       "    <tr style=\"text-align: right;\">\n",
       "      <th></th>\n",
       "      <th>Price_pl</th>\n",
       "      <th>Year</th>\n",
       "    </tr>\n",
       "    <tr>\n",
       "      <th>Month</th>\n",
       "      <th></th>\n",
       "      <th></th>\n",
       "    </tr>\n",
       "  </thead>\n",
       "  <tbody>\n",
       "    <tr>\n",
       "      <th>1</th>\n",
       "      <td>1.065714</td>\n",
       "      <td>2016.714286</td>\n",
       "    </tr>\n",
       "    <tr>\n",
       "      <th>2</th>\n",
       "      <td>1.115150</td>\n",
       "      <td>2017.100000</td>\n",
       "    </tr>\n",
       "    <tr>\n",
       "      <th>3</th>\n",
       "      <td>1.126250</td>\n",
       "      <td>2017.125000</td>\n",
       "    </tr>\n",
       "    <tr>\n",
       "      <th>4</th>\n",
       "      <td>1.138357</td>\n",
       "      <td>2016.857143</td>\n",
       "    </tr>\n",
       "    <tr>\n",
       "      <th>5</th>\n",
       "      <td>1.101429</td>\n",
       "      <td>2016.571429</td>\n",
       "    </tr>\n",
       "    <tr>\n",
       "      <th>6</th>\n",
       "      <td>1.066125</td>\n",
       "      <td>2016.750000</td>\n",
       "    </tr>\n",
       "    <tr>\n",
       "      <th>7</th>\n",
       "      <td>1.089000</td>\n",
       "      <td>2016.500000</td>\n",
       "    </tr>\n",
       "    <tr>\n",
       "      <th>8</th>\n",
       "      <td>1.062333</td>\n",
       "      <td>2016.666667</td>\n",
       "    </tr>\n",
       "    <tr>\n",
       "      <th>9</th>\n",
       "      <td>1.101333</td>\n",
       "      <td>2016.833333</td>\n",
       "    </tr>\n",
       "    <tr>\n",
       "      <th>10</th>\n",
       "      <td>1.092143</td>\n",
       "      <td>2016.714286</td>\n",
       "    </tr>\n",
       "    <tr>\n",
       "      <th>11</th>\n",
       "      <td>1.027800</td>\n",
       "      <td>2016.400000</td>\n",
       "    </tr>\n",
       "    <tr>\n",
       "      <th>12</th>\n",
       "      <td>1.124429</td>\n",
       "      <td>2016.428571</td>\n",
       "    </tr>\n",
       "  </tbody>\n",
       "</table>\n",
       "</div>"
      ],
      "text/plain": [
       "       Price_pl         Year\n",
       "Month                       \n",
       "1      1.065714  2016.714286\n",
       "2      1.115150  2017.100000\n",
       "3      1.126250  2017.125000\n",
       "4      1.138357  2016.857143\n",
       "5      1.101429  2016.571429\n",
       "6      1.066125  2016.750000\n",
       "7      1.089000  2016.500000\n",
       "8      1.062333  2016.666667\n",
       "9      1.101333  2016.833333\n",
       "10     1.092143  2016.714286\n",
       "11     1.027800  2016.400000\n",
       "12     1.124429  2016.428571"
      ]
     },
     "execution_count": 108,
     "metadata": {},
     "output_type": "execute_result"
    }
   ],
   "source": [
    "Month = pd.pivot_table(df, index=['Month'])\n",
    "Month"
   ]
  },
  {
   "cell_type": "code",
   "execution_count": 109,
   "id": "761d7059",
   "metadata": {},
   "outputs": [
    {
     "data": {
      "text/html": [
       "<div>\n",
       "<style scoped>\n",
       "    .dataframe tbody tr th:only-of-type {\n",
       "        vertical-align: middle;\n",
       "    }\n",
       "\n",
       "    .dataframe tbody tr th {\n",
       "        vertical-align: top;\n",
       "    }\n",
       "\n",
       "    .dataframe thead th {\n",
       "        text-align: right;\n",
       "    }\n",
       "</style>\n",
       "<table border=\"1\" class=\"dataframe\">\n",
       "  <thead>\n",
       "    <tr style=\"text-align: right;\">\n",
       "      <th>Year</th>\n",
       "      <th>2015</th>\n",
       "      <th>2016</th>\n",
       "      <th>2017</th>\n",
       "      <th>2018</th>\n",
       "    </tr>\n",
       "  </thead>\n",
       "  <tbody>\n",
       "    <tr>\n",
       "      <th>Month</th>\n",
       "      <td>10.5000</td>\n",
       "      <td>6.125000</td>\n",
       "      <td>5.807692</td>\n",
       "      <td>5.600000</td>\n",
       "    </tr>\n",
       "    <tr>\n",
       "      <th>Price_pl</th>\n",
       "      <td>1.0165</td>\n",
       "      <td>1.010609</td>\n",
       "      <td>1.112462</td>\n",
       "      <td>1.224625</td>\n",
       "    </tr>\n",
       "  </tbody>\n",
       "</table>\n",
       "</div>"
      ],
      "text/plain": [
       "Year         2015      2016      2017      2018\n",
       "Month     10.5000  6.125000  5.807692  5.600000\n",
       "Price_pl   1.0165  1.010609  1.112462  1.224625"
      ]
     },
     "execution_count": 109,
     "metadata": {},
     "output_type": "execute_result"
    }
   ],
   "source": [
    "Year = pd.pivot_table(df, columns=['Year'])\n",
    "Year"
   ]
  },
  {
   "cell_type": "markdown",
   "id": "980bd3fe",
   "metadata": {},
   "source": [
    "5) Create a new column with the season of the year, set it as a secondary index and calculate the average of every season (regardless of the year) to create the following table:"
   ]
  },
  {
   "cell_type": "code",
   "execution_count": 110,
   "id": "ffd8513a",
   "metadata": {},
   "outputs": [
    {
     "data": {
      "text/html": [
       "<div>\n",
       "<style scoped>\n",
       "    .dataframe tbody tr th:only-of-type {\n",
       "        vertical-align: middle;\n",
       "    }\n",
       "\n",
       "    .dataframe tbody tr th {\n",
       "        vertical-align: top;\n",
       "    }\n",
       "\n",
       "    .dataframe thead th {\n",
       "        text-align: right;\n",
       "    }\n",
       "</style>\n",
       "<table border=\"1\" class=\"dataframe\">\n",
       "  <thead>\n",
       "    <tr style=\"text-align: right;\">\n",
       "      <th></th>\n",
       "      <th>Average price ($)</th>\n",
       "    </tr>\n",
       "    <tr>\n",
       "      <th>Season</th>\n",
       "      <th></th>\n",
       "    </tr>\n",
       "  </thead>\n",
       "  <tbody>\n",
       "    <tr>\n",
       "      <th>Fall</th>\n",
       "      <td>0</td>\n",
       "    </tr>\n",
       "    <tr>\n",
       "      <th>Spring</th>\n",
       "      <td>0</td>\n",
       "    </tr>\n",
       "    <tr>\n",
       "      <th>Summer</th>\n",
       "      <td>0</td>\n",
       "    </tr>\n",
       "    <tr>\n",
       "      <th>Winter</th>\n",
       "      <td>0</td>\n",
       "    </tr>\n",
       "  </tbody>\n",
       "</table>\n",
       "</div>"
      ],
      "text/plain": [
       "        Average price ($)\n",
       "Season                   \n",
       "Fall                    0\n",
       "Spring                  0\n",
       "Summer                  0\n",
       "Winter                  0"
      ]
     },
     "execution_count": 110,
     "metadata": {},
     "output_type": "execute_result"
    }
   ],
   "source": [
    "data = [['Fall', 0], ['Winter', 0], ['Spring', 0], ['Summer', 0]]\n",
    "final = pd.DataFrame(data, columns=['Season', 'Average price ($)'])\n",
    "final = pd.pivot_table(final, index=['Season'])\n",
    "final"
   ]
  },
  {
   "cell_type": "code",
   "execution_count": 111,
   "id": "5e04dee2",
   "metadata": {},
   "outputs": [
    {
     "data": {
      "text/html": [
       "<div>\n",
       "<style scoped>\n",
       "    .dataframe tbody tr th:only-of-type {\n",
       "        vertical-align: middle;\n",
       "    }\n",
       "\n",
       "    .dataframe tbody tr th {\n",
       "        vertical-align: top;\n",
       "    }\n",
       "\n",
       "    .dataframe thead th {\n",
       "        text-align: right;\n",
       "    }\n",
       "</style>\n",
       "<table border=\"1\" class=\"dataframe\">\n",
       "  <thead>\n",
       "    <tr style=\"text-align: right;\">\n",
       "      <th></th>\n",
       "      <th>Average price ($)</th>\n",
       "    </tr>\n",
       "    <tr>\n",
       "      <th>Season</th>\n",
       "      <th></th>\n",
       "    </tr>\n",
       "  </thead>\n",
       "  <tbody>\n",
       "    <tr>\n",
       "      <th>Fall</th>\n",
       "      <td>1.073759</td>\n",
       "    </tr>\n",
       "    <tr>\n",
       "      <th>Spring</th>\n",
       "      <td>1.122012</td>\n",
       "    </tr>\n",
       "    <tr>\n",
       "      <th>Summer</th>\n",
       "      <td>1.072486</td>\n",
       "    </tr>\n",
       "    <tr>\n",
       "      <th>Winter</th>\n",
       "      <td>1.101764</td>\n",
       "    </tr>\n",
       "  </tbody>\n",
       "</table>\n",
       "</div>"
      ],
      "text/plain": [
       "        Average price ($)\n",
       "Season                   \n",
       "Fall             1.073759\n",
       "Spring           1.122012\n",
       "Summer           1.072486\n",
       "Winter           1.101764"
      ]
     },
     "execution_count": 111,
     "metadata": {},
     "output_type": "execute_result"
    }
   ],
   "source": [
    "final.at['Fall', 'Average price ($)'] = (Month.loc[9]['Price_pl'] + Month.loc[10]['Price_pl'] + Month.loc[11]['Price_pl'])/3\n",
    "final.at['Spring', 'Average price ($)'] = (Month.loc[3]['Price_pl'] + Month.loc[4]['Price_pl'] + Month.loc[5]['Price_pl'])/3\n",
    "final.at['Summer', 'Average price ($)'] = (Month.loc[6]['Price_pl'] + Month.loc[7]['Price_pl'] + Month.loc[8]['Price_pl'])/3\n",
    "final.at['Winter', 'Average price ($)'] = (Month.loc[12]['Price_pl'] + Month.loc[1]['Price_pl'] + Month.loc[2]['Price_pl'])/3\n",
    "\n",
    "\n",
    "final"
   ]
  },
  {
   "cell_type": "markdown",
   "id": "83a2dff9",
   "metadata": {},
   "source": [
    "# Q 4 Pivot, aggregate and plot timeseries"
   ]
  },
  {
   "cell_type": "code",
   "execution_count": 112,
   "id": "bc4d2aed",
   "metadata": {},
   "outputs": [],
   "source": [
    "import pandas as pd"
   ]
  },
  {
   "cell_type": "code",
   "execution_count": 113,
   "id": "4bbb014e",
   "metadata": {},
   "outputs": [],
   "source": [
    "import warnings\n",
    "warnings.filterwarnings('ignore')"
   ]
  },
  {
   "cell_type": "code",
   "execution_count": 114,
   "id": "21cf06a6",
   "metadata": {},
   "outputs": [
    {
     "data": {
      "text/html": [
       "<div>\n",
       "<style scoped>\n",
       "    .dataframe tbody tr th:only-of-type {\n",
       "        vertical-align: middle;\n",
       "    }\n",
       "\n",
       "    .dataframe tbody tr th {\n",
       "        vertical-align: top;\n",
       "    }\n",
       "\n",
       "    .dataframe thead th {\n",
       "        text-align: right;\n",
       "    }\n",
       "</style>\n",
       "<table border=\"1\" class=\"dataframe\">\n",
       "  <thead>\n",
       "    <tr style=\"text-align: right;\">\n",
       "      <th></th>\n",
       "      <th>MonthYear</th>\n",
       "      <th>Sales</th>\n",
       "      <th>AveragePrice</th>\n",
       "    </tr>\n",
       "  </thead>\n",
       "  <tbody>\n",
       "    <tr>\n",
       "      <th>0</th>\n",
       "      <td>January-2017</td>\n",
       "      <td>5155</td>\n",
       "      <td>768351</td>\n",
       "    </tr>\n",
       "    <tr>\n",
       "      <th>1</th>\n",
       "      <td>February-2017</td>\n",
       "      <td>7955</td>\n",
       "      <td>876363</td>\n",
       "    </tr>\n",
       "    <tr>\n",
       "      <th>2</th>\n",
       "      <td>March-2017</td>\n",
       "      <td>11959</td>\n",
       "      <td>915353</td>\n",
       "    </tr>\n",
       "    <tr>\n",
       "      <th>3</th>\n",
       "      <td>April-2017</td>\n",
       "      <td>11470</td>\n",
       "      <td>918138</td>\n",
       "    </tr>\n",
       "    <tr>\n",
       "      <th>4</th>\n",
       "      <td>May-2017</td>\n",
       "      <td>10068</td>\n",
       "      <td>862109</td>\n",
       "    </tr>\n",
       "  </tbody>\n",
       "</table>\n",
       "</div>"
      ],
      "text/plain": [
       "       MonthYear  Sales  AveragePrice\n",
       "0   January-2017   5155        768351\n",
       "1  February-2017   7955        876363\n",
       "2     March-2017  11959        915353\n",
       "3     April-2017  11470        918138\n",
       "4       May-2017  10068        862109"
      ]
     },
     "execution_count": 114,
     "metadata": {},
     "output_type": "execute_result"
    }
   ],
   "source": [
    "df = pd.read_excel(\"TREB_data.xlsx\")\n",
    "df.head()"
   ]
  },
  {
   "cell_type": "markdown",
   "id": "71c04ef5",
   "metadata": {},
   "source": [
    "1) Create the necessary columns to pivot and generate the table below with the value of Sales (hint: use the split() function to split the MonthYear column to Month and Year)."
   ]
  },
  {
   "cell_type": "code",
   "execution_count": 115,
   "id": "826cc250",
   "metadata": {},
   "outputs": [
    {
     "data": {
      "text/plain": [
       "MonthYear       object\n",
       "Sales            int64\n",
       "AveragePrice     int64\n",
       "dtype: object"
      ]
     },
     "execution_count": 115,
     "metadata": {},
     "output_type": "execute_result"
    }
   ],
   "source": [
    "df.dtypes"
   ]
  },
  {
   "cell_type": "code",
   "execution_count": 116,
   "id": "52477cb6",
   "metadata": {},
   "outputs": [],
   "source": [
    "df[['Month','Year']] = df['MonthYear'].str.split('-', expand=True)\n",
    "df.drop(columns =[\"MonthYear\"], inplace = True)"
   ]
  },
  {
   "cell_type": "code",
   "execution_count": 117,
   "id": "e185bcec",
   "metadata": {},
   "outputs": [
    {
     "data": {
      "text/html": [
       "<div>\n",
       "<style scoped>\n",
       "    .dataframe tbody tr th:only-of-type {\n",
       "        vertical-align: middle;\n",
       "    }\n",
       "\n",
       "    .dataframe tbody tr th {\n",
       "        vertical-align: top;\n",
       "    }\n",
       "\n",
       "    .dataframe thead th {\n",
       "        text-align: right;\n",
       "    }\n",
       "</style>\n",
       "<table border=\"1\" class=\"dataframe\">\n",
       "  <thead>\n",
       "    <tr style=\"text-align: right;\">\n",
       "      <th>Year</th>\n",
       "      <th>2013</th>\n",
       "      <th>2014</th>\n",
       "      <th>2015</th>\n",
       "      <th>2016</th>\n",
       "      <th>2017</th>\n",
       "    </tr>\n",
       "    <tr>\n",
       "      <th>Month</th>\n",
       "      <th></th>\n",
       "      <th></th>\n",
       "      <th></th>\n",
       "      <th></th>\n",
       "      <th></th>\n",
       "    </tr>\n",
       "  </thead>\n",
       "  <tbody>\n",
       "    <tr>\n",
       "      <th>April</th>\n",
       "      <td>9537</td>\n",
       "      <td>9660</td>\n",
       "      <td>11254</td>\n",
       "      <td>12016</td>\n",
       "      <td>11470</td>\n",
       "    </tr>\n",
       "    <tr>\n",
       "      <th>August</th>\n",
       "      <td>7390</td>\n",
       "      <td>7568</td>\n",
       "      <td>7943</td>\n",
       "      <td>9748</td>\n",
       "      <td>6310</td>\n",
       "    </tr>\n",
       "    <tr>\n",
       "      <th>December</th>\n",
       "      <td>4058</td>\n",
       "      <td>4418</td>\n",
       "      <td>4917</td>\n",
       "      <td>5305</td>\n",
       "      <td>4930</td>\n",
       "    </tr>\n",
       "    <tr>\n",
       "      <th>February</th>\n",
       "      <td>5615</td>\n",
       "      <td>5696</td>\n",
       "      <td>6294</td>\n",
       "      <td>7582</td>\n",
       "      <td>7955</td>\n",
       "    </tr>\n",
       "    <tr>\n",
       "      <th>January</th>\n",
       "      <td>4230</td>\n",
       "      <td>4103</td>\n",
       "      <td>4318</td>\n",
       "      <td>4640</td>\n",
       "      <td>5155</td>\n",
       "    </tr>\n",
       "    <tr>\n",
       "      <th>July</th>\n",
       "      <td>8367</td>\n",
       "      <td>9152</td>\n",
       "      <td>9813</td>\n",
       "      <td>9929</td>\n",
       "      <td>5871</td>\n",
       "    </tr>\n",
       "    <tr>\n",
       "      <th>June</th>\n",
       "      <td>8821</td>\n",
       "      <td>10132</td>\n",
       "      <td>11905</td>\n",
       "      <td>12725</td>\n",
       "      <td>7896</td>\n",
       "    </tr>\n",
       "    <tr>\n",
       "      <th>March</th>\n",
       "      <td>7536</td>\n",
       "      <td>8052</td>\n",
       "      <td>8886</td>\n",
       "      <td>10260</td>\n",
       "      <td>11959</td>\n",
       "    </tr>\n",
       "    <tr>\n",
       "      <th>May</th>\n",
       "      <td>9945</td>\n",
       "      <td>11013</td>\n",
       "      <td>11640</td>\n",
       "      <td>12789</td>\n",
       "      <td>10068</td>\n",
       "    </tr>\n",
       "    <tr>\n",
       "      <th>November</th>\n",
       "      <td>6354</td>\n",
       "      <td>6475</td>\n",
       "      <td>7337</td>\n",
       "      <td>8503</td>\n",
       "      <td>7353</td>\n",
       "    </tr>\n",
       "    <tr>\n",
       "      <th>October</th>\n",
       "      <td>7940</td>\n",
       "      <td>8512</td>\n",
       "      <td>8759</td>\n",
       "      <td>9715</td>\n",
       "      <td>7087</td>\n",
       "    </tr>\n",
       "    <tr>\n",
       "      <th>September</th>\n",
       "      <td>7256</td>\n",
       "      <td>8001</td>\n",
       "      <td>8147</td>\n",
       "      <td>9828</td>\n",
       "      <td>6340</td>\n",
       "    </tr>\n",
       "  </tbody>\n",
       "</table>\n",
       "</div>"
      ],
      "text/plain": [
       "Year       2013   2014   2015   2016   2017\n",
       "Month                                      \n",
       "April      9537   9660  11254  12016  11470\n",
       "August     7390   7568   7943   9748   6310\n",
       "December   4058   4418   4917   5305   4930\n",
       "February   5615   5696   6294   7582   7955\n",
       "January    4230   4103   4318   4640   5155\n",
       "July       8367   9152   9813   9929   5871\n",
       "June       8821  10132  11905  12725   7896\n",
       "March      7536   8052   8886  10260  11959\n",
       "May        9945  11013  11640  12789  10068\n",
       "November   6354   6475   7337   8503   7353\n",
       "October    7940   8512   8759   9715   7087\n",
       "September  7256   8001   8147   9828   6340"
      ]
     },
     "execution_count": 117,
     "metadata": {},
     "output_type": "execute_result"
    }
   ],
   "source": [
    "df1 = pd.pivot_table(data=df, \n",
    "                        index=['Month'], \n",
    "                        columns=['Year'], \n",
    "                        values='Sales',)\n",
    "\n",
    "df1"
   ]
  },
  {
   "cell_type": "code",
   "execution_count": 118,
   "id": "34488f0e",
   "metadata": {},
   "outputs": [
    {
     "data": {
      "text/html": [
       "<div>\n",
       "<style scoped>\n",
       "    .dataframe tbody tr th:only-of-type {\n",
       "        vertical-align: middle;\n",
       "    }\n",
       "\n",
       "    .dataframe tbody tr th {\n",
       "        vertical-align: top;\n",
       "    }\n",
       "\n",
       "    .dataframe thead th {\n",
       "        text-align: right;\n",
       "    }\n",
       "</style>\n",
       "<table border=\"1\" class=\"dataframe\">\n",
       "  <thead>\n",
       "    <tr style=\"text-align: right;\">\n",
       "      <th>Year</th>\n",
       "      <th>2013</th>\n",
       "      <th>2014</th>\n",
       "      <th>2015</th>\n",
       "      <th>2016</th>\n",
       "      <th>2017</th>\n",
       "    </tr>\n",
       "    <tr>\n",
       "      <th>Month</th>\n",
       "      <th></th>\n",
       "      <th></th>\n",
       "      <th></th>\n",
       "      <th></th>\n",
       "      <th></th>\n",
       "    </tr>\n",
       "  </thead>\n",
       "  <tbody>\n",
       "    <tr>\n",
       "      <th>January</th>\n",
       "      <td>4230</td>\n",
       "      <td>4103</td>\n",
       "      <td>4318</td>\n",
       "      <td>4640</td>\n",
       "      <td>5155</td>\n",
       "    </tr>\n",
       "    <tr>\n",
       "      <th>February</th>\n",
       "      <td>5615</td>\n",
       "      <td>5696</td>\n",
       "      <td>6294</td>\n",
       "      <td>7582</td>\n",
       "      <td>7955</td>\n",
       "    </tr>\n",
       "    <tr>\n",
       "      <th>March</th>\n",
       "      <td>7536</td>\n",
       "      <td>8052</td>\n",
       "      <td>8886</td>\n",
       "      <td>10260</td>\n",
       "      <td>11959</td>\n",
       "    </tr>\n",
       "    <tr>\n",
       "      <th>April</th>\n",
       "      <td>9537</td>\n",
       "      <td>9660</td>\n",
       "      <td>11254</td>\n",
       "      <td>12016</td>\n",
       "      <td>11470</td>\n",
       "    </tr>\n",
       "    <tr>\n",
       "      <th>May</th>\n",
       "      <td>9945</td>\n",
       "      <td>11013</td>\n",
       "      <td>11640</td>\n",
       "      <td>12789</td>\n",
       "      <td>10068</td>\n",
       "    </tr>\n",
       "    <tr>\n",
       "      <th>June</th>\n",
       "      <td>8821</td>\n",
       "      <td>10132</td>\n",
       "      <td>11905</td>\n",
       "      <td>12725</td>\n",
       "      <td>7896</td>\n",
       "    </tr>\n",
       "    <tr>\n",
       "      <th>July</th>\n",
       "      <td>8367</td>\n",
       "      <td>9152</td>\n",
       "      <td>9813</td>\n",
       "      <td>9929</td>\n",
       "      <td>5871</td>\n",
       "    </tr>\n",
       "    <tr>\n",
       "      <th>August</th>\n",
       "      <td>7390</td>\n",
       "      <td>7568</td>\n",
       "      <td>7943</td>\n",
       "      <td>9748</td>\n",
       "      <td>6310</td>\n",
       "    </tr>\n",
       "    <tr>\n",
       "      <th>September</th>\n",
       "      <td>7256</td>\n",
       "      <td>8001</td>\n",
       "      <td>8147</td>\n",
       "      <td>9828</td>\n",
       "      <td>6340</td>\n",
       "    </tr>\n",
       "    <tr>\n",
       "      <th>October</th>\n",
       "      <td>7940</td>\n",
       "      <td>8512</td>\n",
       "      <td>8759</td>\n",
       "      <td>9715</td>\n",
       "      <td>7087</td>\n",
       "    </tr>\n",
       "    <tr>\n",
       "      <th>November</th>\n",
       "      <td>6354</td>\n",
       "      <td>6475</td>\n",
       "      <td>7337</td>\n",
       "      <td>8503</td>\n",
       "      <td>7353</td>\n",
       "    </tr>\n",
       "    <tr>\n",
       "      <th>December</th>\n",
       "      <td>4058</td>\n",
       "      <td>4418</td>\n",
       "      <td>4917</td>\n",
       "      <td>5305</td>\n",
       "      <td>4930</td>\n",
       "    </tr>\n",
       "  </tbody>\n",
       "</table>\n",
       "</div>"
      ],
      "text/plain": [
       "Year       2013   2014   2015   2016   2017\n",
       "Month                                      \n",
       "January    4230   4103   4318   4640   5155\n",
       "February   5615   5696   6294   7582   7955\n",
       "March      7536   8052   8886  10260  11959\n",
       "April      9537   9660  11254  12016  11470\n",
       "May        9945  11013  11640  12789  10068\n",
       "June       8821  10132  11905  12725   7896\n",
       "July       8367   9152   9813   9929   5871\n",
       "August     7390   7568   7943   9748   6310\n",
       "September  7256   8001   8147   9828   6340\n",
       "October    7940   8512   8759   9715   7087\n",
       "November   6354   6475   7337   8503   7353\n",
       "December   4058   4418   4917   5305   4930"
      ]
     },
     "execution_count": 118,
     "metadata": {},
     "output_type": "execute_result"
    }
   ],
   "source": [
    "new_order = ['January', 'February', 'March', 'April', 'May', 'June', 'July', 'August', 'September', 'October', 'November', 'December']\n",
    "\n",
    "df1 = df1.reindex(new_order, axis=0)\n",
    "df1"
   ]
  },
  {
   "cell_type": "code",
   "execution_count": null,
   "id": "85f4a071",
   "metadata": {},
   "outputs": [],
   "source": []
  },
  {
   "cell_type": "markdown",
   "id": "99b72073",
   "metadata": {},
   "source": [
    "2) In one figure, plot 5 lines (one line per year) with the monthly sales versus the month of the year.\n"
   ]
  },
  {
   "cell_type": "code",
   "execution_count": 119,
   "id": "48e57a4e",
   "metadata": {},
   "outputs": [
    {
     "data": {
      "image/png": "[encoded data removed]",
      "text/plain": [
       "<Figure size 432x288 with 1 Axes>"
      ]
     },
     "metadata": {
      "needs_background": "light"
     },
     "output_type": "display_data"
    }
   ],
   "source": [
    "import matplotlib.pyplot as plt\n",
    "  \n",
    "plt.plot(df1.iloc[:, 0], label = \"2013\")\n",
    "plt.plot(df1.iloc[:, 1], label = \"2014\")\n",
    "plt.plot(df1.iloc[:, 2], label = \"2015\")\n",
    "plt.plot(df1.iloc[:, 3], label = \"2016\")\n",
    "plt.plot(df1.iloc[:, 4], label = \"2017\")\n",
    "plt.legend()\n",
    "plt.gcf().autofmt_xdate()\n",
    "plt.show()"
   ]
  },
  {
   "cell_type": "markdown",
   "id": "7d101298",
   "metadata": {},
   "source": [
    "3) Calculate the total Sales per year and create a bar chart. Do this in two different ways:\n",
    "a) group by year the table pre-pivoting, b) summing up the five columns post-pivoting\n"
   ]
  },
  {
   "cell_type": "code",
   "execution_count": 120,
   "id": "555b433c",
   "metadata": {},
   "outputs": [
    {
     "data": {
      "text/plain": [
       "<AxesSubplot:xlabel='Year'>"
      ]
     },
     "execution_count": 120,
     "metadata": {},
     "output_type": "execute_result"
    },
    {
     "data": {
      "image/png": "[encoded data removed]",
      "text/plain": [
       "<Figure size 432x288 with 1 Axes>"
      ]
     },
     "metadata": {
      "needs_background": "light"
     },
     "output_type": "display_data"
    }
   ],
   "source": [
    "# before pivot\n",
    "\n",
    "df1 = df.groupby(\"Year\")[\"Sales\"].sum()\n",
    "df1.plot.bar()"
   ]
  },
  {
   "cell_type": "code",
   "execution_count": 121,
   "id": "3e4121cb",
   "metadata": {},
   "outputs": [
    {
     "data": {
      "image/png": "[encoded data removed]",
      "text/plain": [
       "<Figure size 432x288 with 1 Axes>"
      ]
     },
     "metadata": {
      "needs_background": "light"
     },
     "output_type": "display_data"
    }
   ],
   "source": [
    "# after pivot\n",
    "\n",
    "import matplotlib.pyplot as plt\n",
    "\n",
    "df3 = pd.pivot_table(data=df,  \n",
    "                        columns=['Year'], \n",
    "                        values='Sales',\n",
    "                        aggfunc='sum')\n",
    "df3\n",
    "\n",
    "fig = plt.figure()\n",
    "ax = fig.add_axes([0,0,1,1])\n",
    "X = list(df3.columns)\n",
    "Y = list(df3.iloc[0])\n",
    "ax.bar(X,Y)\n",
    "plt.show()"
   ]
  },
  {
   "cell_type": "code",
   "execution_count": 122,
   "id": "ab8de73f",
   "metadata": {},
   "outputs": [
    {
     "data": {
      "text/plain": [
       "<AxesSubplot:>"
      ]
     },
     "execution_count": 122,
     "metadata": {},
     "output_type": "execute_result"
    },
    {
     "data": {
      "image/png": "[encoded data removed]",
      "text/plain": [
       "<Figure size 432x288 with 1 Axes>"
      ]
     },
     "metadata": {
      "needs_background": "light"
     },
     "output_type": "display_data"
    }
   ],
   "source": [
    "import numpy as np\n",
    "import matplotlib.pyplot as plt\n",
    "\n",
    "df3.plot.bar()"
   ]
  },
  {
   "cell_type": "code",
   "execution_count": null,
   "id": "3caace15",
   "metadata": {},
   "outputs": [],
   "source": []
  },
  {
   "cell_type": "code",
   "execution_count": null,
   "id": "7e98d6d3",
   "metadata": {},
   "outputs": [],
   "source": []
  },
  {
   "cell_type": "code",
   "execution_count": null,
   "id": "a09ffc49",
   "metadata": {},
   "outputs": [],
   "source": []
  },
  {
   "cell_type": "code",
   "execution_count": null,
   "id": "0d727628",
   "metadata": {},
   "outputs": [],
   "source": []
  }
 ],
 "metadata": {
  "kernelspec": {
   "display_name": "Python 3 (ipykernel)",
   "language": "python",
   "name": "python3"
  },
  "language_info": {
   "codemirror_mode": {
    "name": "ipython",
    "version": 3
   },
   "file_extension": ".py",
   "mimetype": "text/x-python",
   "name": "python",
   "nbconvert_exporter": "python",
   "pygments_lexer": "ipython3",
   "version": "3.10.9"
  }
 },
 "nbformat": 4,
 "nbformat_minor": 5
}
